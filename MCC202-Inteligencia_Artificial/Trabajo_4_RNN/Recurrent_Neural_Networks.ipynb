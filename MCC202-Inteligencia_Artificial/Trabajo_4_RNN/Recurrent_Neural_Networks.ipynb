{
 "cells": [
  {
   "cell_type": "markdown",
   "metadata": {},
   "source": [
    "# Recursive Neural Networks for Sentimental Analysis"
   ]
  },
  {
   "cell_type": "markdown",
   "metadata": {},
   "source": [
    "Adapted from http://nbviewer.jupyter.org/github/rasbt/pattern_classification/blob/master/machine_learning/scikit-learn/outofcore_modelpersistence.ipynb"
   ]
  },
  {
   "cell_type": "markdown",
   "metadata": {},
   "source": [
    "## The IMDb Movie Review Dataset"
   ]
  },
  {
   "cell_type": "markdown",
   "metadata": {},
   "source": [
    "In this section, we will train a simple logistic regression model to classify movie reviews from the 50k IMDb review dataset that has been collected by Maas et. al.\n",
    "\n",
    "> AL Maas, RE Daly, PT Pham, D Huang, AY Ng, and C Potts. Learning word vectors for sentiment analysis. In Proceedings of the 49th Annual Meeting of the Association for Computational Lin- guistics: Human Language Technologies, pages 142–150, Portland, Oregon, USA, June 2011. Association for Computational Linguistics\n",
    "\n",
    "[Source: http://ai.stanford.edu/~amaas/data/sentiment/]\n",
    "\n",
    "The dataset consists of 50,000 movie reviews from the original \"train\" and \"test\" subdirectories. The class labels are binary (1=positive and 0=negative) and contain 25,000 positive and 25,000 negative movie reviews, respectively.\n",
    "For simplicity, I assembled the reviews in a single CSV file.\n"
   ]
  },
  {
   "cell_type": "markdown",
   "metadata": {},
   "source": [
    "### Import libraries and upload all data"
   ]
  },
  {
   "cell_type": "markdown",
   "metadata": {},
   "source": [
    "We need to import libraries and preprocess texts."
   ]
  },
  {
   "cell_type": "code",
   "execution_count": 1,
   "metadata": {},
   "outputs": [
    {
     "data": {
      "text/html": [
       "<div>\n",
       "<style scoped>\n",
       "    .dataframe tbody tr th:only-of-type {\n",
       "        vertical-align: middle;\n",
       "    }\n",
       "\n",
       "    .dataframe tbody tr th {\n",
       "        vertical-align: top;\n",
       "    }\n",
       "\n",
       "    .dataframe thead th {\n",
       "        text-align: right;\n",
       "    }\n",
       "</style>\n",
       "<table border=\"1\" class=\"dataframe\">\n",
       "  <thead>\n",
       "    <tr style=\"text-align: right;\">\n",
       "      <th></th>\n",
       "      <th>review</th>\n",
       "      <th>sentiment</th>\n",
       "    </tr>\n",
       "  </thead>\n",
       "  <tbody>\n",
       "    <tr>\n",
       "      <th>49995</th>\n",
       "      <td>OK, lets start with the best. the building. al...</td>\n",
       "      <td>0</td>\n",
       "    </tr>\n",
       "    <tr>\n",
       "      <th>49996</th>\n",
       "      <td>The British 'heritage film' industry is out of...</td>\n",
       "      <td>0</td>\n",
       "    </tr>\n",
       "    <tr>\n",
       "      <th>49997</th>\n",
       "      <td>I don't even know where to begin on this one. ...</td>\n",
       "      <td>0</td>\n",
       "    </tr>\n",
       "    <tr>\n",
       "      <th>49998</th>\n",
       "      <td>Richard Tyler is a little boy who is scared of...</td>\n",
       "      <td>0</td>\n",
       "    </tr>\n",
       "    <tr>\n",
       "      <th>49999</th>\n",
       "      <td>I waited long to watch this movie. Also becaus...</td>\n",
       "      <td>1</td>\n",
       "    </tr>\n",
       "  </tbody>\n",
       "</table>\n",
       "</div>"
      ],
      "text/plain": [
       "                                                  review  sentiment\n",
       "49995  OK, lets start with the best. the building. al...          0\n",
       "49996  The British 'heritage film' industry is out of...          0\n",
       "49997  I don't even know where to begin on this one. ...          0\n",
       "49998  Richard Tyler is a little boy who is scared of...          0\n",
       "49999  I waited long to watch this movie. Also becaus...          1"
      ]
     },
     "execution_count": 1,
     "metadata": {},
     "output_type": "execute_result"
    }
   ],
   "source": [
    "import pandas as pd\n",
    "import numpy as np\n",
    "# if you want to download the original file:\n",
    "#df = pd.read_csv('https://raw.githubusercontent.com/rasbt/pattern_classification/master/data/50k_imdb_movie_reviews.csv')\n",
    "# otherwise load local file\n",
    "df = pd.read_csv('data/shuffled_movie_data.csv')\n",
    "df.tail()"
   ]
  },
  {
   "cell_type": "markdown",
   "metadata": {},
   "source": [
    "## 2. Loading Libraries"
   ]
  },
  {
   "cell_type": "code",
   "execution_count": 2,
   "metadata": {},
   "outputs": [
    {
     "name": "stderr",
     "output_type": "stream",
     "text": [
      "/home/jenazads/anaconda3/lib/python3.6/site-packages/h5py/__init__.py:36: FutureWarning: Conversion of the second argument of issubdtype from `float` to `np.floating` is deprecated. In future, it will be treated as `np.float64 == np.dtype(float).type`.\n",
      "  from ._conv import register_converters as _register_converters\n",
      "Using TensorFlow backend.\n"
     ]
    }
   ],
   "source": [
    "import re\n",
    "from keras.models import Sequential\n",
    "from keras.layers import Activation, Dense, Embedding, SimpleRNN, Bidirectional\n",
    "from keras import backend as K\n",
    "from keras.callbacks import ReduceLROnPlateau, EarlyStopping, ModelCheckpoint\n",
    "from keras.callbacks import TensorBoard"
   ]
  },
  {
   "cell_type": "markdown",
   "metadata": {},
   "source": [
    "## 3. Pre-processing data"
   ]
  },
  {
   "cell_type": "code",
   "execution_count": 3,
   "metadata": {},
   "outputs": [],
   "source": [
    "from keras.preprocessing.text import Tokenizer"
   ]
  },
  {
   "cell_type": "code",
   "execution_count": 4,
   "metadata": {},
   "outputs": [
    {
     "data": {
      "text/plain": [
       "array([1, 0, 0, 1, 0])"
      ]
     },
     "execution_count": 4,
     "metadata": {},
     "output_type": "execute_result"
    }
   ],
   "source": [
    "num_words = 10000\n",
    "tokenizer  = Tokenizer(num_words = num_words)\n",
    "tokenizer.fit_on_texts( df.review )\n",
    "sequences = tokenizer.texts_to_sequences(df.review)\n",
    "y  =  np.array((df.sentiment))\n",
    "y[0:5]\n"
   ]
  },
  {
   "cell_type": "code",
   "execution_count": 5,
   "metadata": {},
   "outputs": [],
   "source": [
    "from keras.preprocessing.sequence import pad_sequences \n",
    "\n",
    "max_review_length = 200\n",
    "\n",
    "pad = 'pre'\n",
    "\n",
    "X = pad_sequences(sequences,max_review_length,padding=pad,truncating=pad)"
   ]
  },
  {
   "cell_type": "markdown",
   "metadata": {},
   "source": [
    "## 4. Splitting data"
   ]
  },
  {
   "cell_type": "code",
   "execution_count": 6,
   "metadata": {},
   "outputs": [],
   "source": [
    "from sklearn.model_selection import train_test_split"
   ]
  },
  {
   "cell_type": "code",
   "execution_count": 7,
   "metadata": {},
   "outputs": [
    {
     "name": "stdout",
     "output_type": "stream",
     "text": [
      "(40000, 200)\n",
      "(10000, 200)\n"
     ]
    }
   ],
   "source": [
    "X_train, X_test, y_train, y_test = train_test_split(X,y,test_size = 0.2)\n",
    "print(X_train.shape)\n",
    "print(X_test.shape)\n",
    "input_shape = X_train.shape"
   ]
  },
  {
   "cell_type": "markdown",
   "metadata": {},
   "source": [
    "## 5. Generating model"
   ]
  },
  {
   "cell_type": "code",
   "execution_count": 8,
   "metadata": {},
   "outputs": [
    {
     "name": "stdout",
     "output_type": "stream",
     "text": [
      "_________________________________________________________________\n",
      "Layer (type)                 Output Shape              Param #   \n",
      "=================================================================\n",
      "embedding_1 (Embedding)      (None, 200, 32)           320000    \n",
      "_________________________________________________________________\n",
      "bidirectional_1 (Bidirection (None, 64)                16640     \n",
      "_________________________________________________________________\n",
      "dense_1 (Dense)              (None, 1)                 65        \n",
      "_________________________________________________________________\n",
      "activation_1 (Activation)    (None, 1)                 0         \n",
      "=================================================================\n",
      "Total params: 336,705\n",
      "Trainable params: 336,705\n",
      "Non-trainable params: 0\n",
      "_________________________________________________________________\n"
     ]
    }
   ],
   "source": [
    "from keras.layers import LSTM\n",
    "\n",
    "K.clear_session()\n",
    "\n",
    "lstm_model = Sequential()\n",
    "# We specify the maximum input length to our Embedding layer\n",
    "# so we can later flatten the embedded inputs\n",
    "lstm_model.add(Embedding(num_words, \n",
    "                        32, \n",
    "                        input_length=max_review_length))\n",
    "\n",
    "lstm_model.add(Bidirectional(LSTM(32)))\n",
    "lstm_model.add(Dense(1))\n",
    "lstm_model.add(Activation('sigmoid'))\n",
    "lstm_model.summary()"
   ]
  },
  {
   "cell_type": "markdown",
   "metadata": {},
   "source": [
    "## 6. Training Network"
   ]
  },
  {
   "cell_type": "code",
   "execution_count": 9,
   "metadata": {},
   "outputs": [
    {
     "name": "stdout",
     "output_type": "stream",
     "text": [
      "Train on 28000 samples, validate on 12000 samples\n",
      "Epoch 1/10\n",
      "28000/28000 [==============================] - 92s 3ms/step - loss: 0.4702 - acc: 0.7670 - val_loss: 0.3146 - val_acc: 0.8697\n",
      "Epoch 2/10\n",
      "28000/28000 [==============================] - 85s 3ms/step - loss: 0.2454 - acc: 0.9056 - val_loss: 0.2978 - val_acc: 0.8728\n",
      "Epoch 3/10\n",
      "28000/28000 [==============================] - 82s 3ms/step - loss: 0.1828 - acc: 0.9351 - val_loss: 0.3183 - val_acc: 0.8780\n",
      "Epoch 4/10\n",
      "28000/28000 [==============================] - 83s 3ms/step - loss: 0.1448 - acc: 0.9496 - val_loss: 0.3855 - val_acc: 0.8701\n",
      "Epoch 5/10\n",
      "28000/28000 [==============================] - 83s 3ms/step - loss: 0.1147 - acc: 0.9616 - val_loss: 0.4501 - val_acc: 0.8638\n",
      "Epoch 6/10\n",
      "28000/28000 [==============================] - 82s 3ms/step - loss: 0.0984 - acc: 0.9671 - val_loss: 0.4096 - val_acc: 0.8694\n",
      "Epoch 7/10\n",
      "28000/28000 [==============================] - 84s 3ms/step - loss: 0.0881 - acc: 0.9708 - val_loss: 0.5337 - val_acc: 0.8598\n",
      "Epoch 8/10\n",
      "28000/28000 [==============================] - 85s 3ms/step - loss: 0.0785 - acc: 0.9749 - val_loss: 0.4841 - val_acc: 0.8622\n",
      "Epoch 9/10\n",
      "28000/28000 [==============================] - 84s 3ms/step - loss: 0.0602 - acc: 0.9807 - val_loss: 0.5035 - val_acc: 0.8605\n",
      "Epoch 10/10\n",
      "28000/28000 [==============================] - 84s 3ms/step - loss: 0.0647 - acc: 0.9792 - val_loss: 0.5054 - val_acc: 0.8595\n"
     ]
    }
   ],
   "source": [
    "lstm_model.compile(optimizer=\"adam\", \n",
    "              loss='binary_crossentropy', \n",
    "              metrics=['accuracy'])\n",
    "\n",
    "lstm_history = lstm_model.fit(X_train, \n",
    "                              y_train,\n",
    "                              epochs=10,\n",
    "                              batch_size=128,\n",
    "                              validation_split=0.3)"
   ]
  },
  {
   "cell_type": "markdown",
   "metadata": {},
   "source": [
    "## 7. Prediction fase"
   ]
  },
  {
   "cell_type": "code",
   "execution_count": 10,
   "metadata": {},
   "outputs": [
    {
     "name": "stdout",
     "output_type": "stream",
     "text": [
      "10000  Iterations will be done.\n",
      "Testeo: 0 -> y_pred: [1] -> REAL: 1\n",
      "Testeo: 100 -> y_pred: [1] -> REAL: 1\n",
      "Testeo: 200 -> y_pred: [0] -> REAL: 0\n",
      "Testeo: 300 -> y_pred: [1] -> REAL: 1\n",
      "Testeo: 400 -> y_pred: [1] -> REAL: 1\n",
      "Testeo: 500 -> y_pred: [1] -> REAL: 1\n",
      "Testeo: 600 -> y_pred: [0] -> REAL: 1\n",
      "Testeo: 700 -> y_pred: [0] -> REAL: 0\n",
      "Testeo: 800 -> y_pred: [0] -> REAL: 0\n",
      "Testeo: 900 -> y_pred: [1] -> REAL: 1\n",
      "Testeo: 1000 -> y_pred: [0] -> REAL: 0\n",
      "Testeo: 1100 -> y_pred: [1] -> REAL: 1\n",
      "Testeo: 1200 -> y_pred: [0] -> REAL: 0\n",
      "Testeo: 1300 -> y_pred: [0] -> REAL: 0\n",
      "Testeo: 1400 -> y_pred: [0] -> REAL: 0\n",
      "Testeo: 1500 -> y_pred: [1] -> REAL: 1\n",
      "Testeo: 1600 -> y_pred: [0] -> REAL: 0\n",
      "Testeo: 1700 -> y_pred: [0] -> REAL: 0\n",
      "Testeo: 1800 -> y_pred: [1] -> REAL: 1\n",
      "Testeo: 1900 -> y_pred: [1] -> REAL: 1\n",
      "Testeo: 2000 -> y_pred: [1] -> REAL: 1\n",
      "Testeo: 2100 -> y_pred: [0] -> REAL: 1\n",
      "Testeo: 2200 -> y_pred: [1] -> REAL: 1\n",
      "Testeo: 2300 -> y_pred: [0] -> REAL: 0\n",
      "Testeo: 2400 -> y_pred: [1] -> REAL: 1\n",
      "Testeo: 2500 -> y_pred: [0] -> REAL: 0\n",
      "Testeo: 2600 -> y_pred: [1] -> REAL: 1\n",
      "Testeo: 2700 -> y_pred: [0] -> REAL: 0\n",
      "Testeo: 2800 -> y_pred: [0] -> REAL: 0\n",
      "Testeo: 2900 -> y_pred: [0] -> REAL: 0\n",
      "Testeo: 3000 -> y_pred: [0] -> REAL: 0\n",
      "Testeo: 3100 -> y_pred: [0] -> REAL: 0\n",
      "Testeo: 3200 -> y_pred: [1] -> REAL: 1\n",
      "Testeo: 3300 -> y_pred: [0] -> REAL: 0\n",
      "Testeo: 3400 -> y_pred: [0] -> REAL: 0\n",
      "Testeo: 3500 -> y_pred: [1] -> REAL: 0\n",
      "Testeo: 3600 -> y_pred: [1] -> REAL: 1\n",
      "Testeo: 3700 -> y_pred: [0] -> REAL: 0\n",
      "Testeo: 3800 -> y_pred: [1] -> REAL: 1\n",
      "Testeo: 3900 -> y_pred: [1] -> REAL: 1\n",
      "Testeo: 4000 -> y_pred: [0] -> REAL: 0\n",
      "Testeo: 4100 -> y_pred: [1] -> REAL: 1\n",
      "Testeo: 4200 -> y_pred: [1] -> REAL: 0\n",
      "Testeo: 4300 -> y_pred: [0] -> REAL: 0\n",
      "Testeo: 4400 -> y_pred: [0] -> REAL: 0\n",
      "Testeo: 4500 -> y_pred: [0] -> REAL: 0\n",
      "Testeo: 4600 -> y_pred: [1] -> REAL: 1\n",
      "Testeo: 4700 -> y_pred: [0] -> REAL: 1\n",
      "Testeo: 4800 -> y_pred: [0] -> REAL: 0\n",
      "Testeo: 4900 -> y_pred: [0] -> REAL: 0\n",
      "Testeo: 5000 -> y_pred: [1] -> REAL: 0\n",
      "Testeo: 5100 -> y_pred: [0] -> REAL: 0\n",
      "Testeo: 5200 -> y_pred: [0] -> REAL: 0\n",
      "Testeo: 5300 -> y_pred: [1] -> REAL: 0\n",
      "Testeo: 5400 -> y_pred: [1] -> REAL: 1\n",
      "Testeo: 5500 -> y_pred: [0] -> REAL: 0\n",
      "Testeo: 5600 -> y_pred: [0] -> REAL: 1\n",
      "Testeo: 5700 -> y_pred: [0] -> REAL: 0\n",
      "Testeo: 5800 -> y_pred: [1] -> REAL: 1\n",
      "Testeo: 5900 -> y_pred: [0] -> REAL: 0\n",
      "Testeo: 6000 -> y_pred: [1] -> REAL: 1\n",
      "Testeo: 6100 -> y_pred: [1] -> REAL: 1\n",
      "Testeo: 6200 -> y_pred: [1] -> REAL: 1\n",
      "Testeo: 6300 -> y_pred: [1] -> REAL: 0\n",
      "Testeo: 6400 -> y_pred: [1] -> REAL: 1\n",
      "Testeo: 6500 -> y_pred: [0] -> REAL: 1\n",
      "Testeo: 6600 -> y_pred: [0] -> REAL: 0\n",
      "Testeo: 6700 -> y_pred: [1] -> REAL: 1\n",
      "Testeo: 6800 -> y_pred: [0] -> REAL: 0\n",
      "Testeo: 6900 -> y_pred: [1] -> REAL: 1\n",
      "Testeo: 7000 -> y_pred: [1] -> REAL: 0\n",
      "Testeo: 7100 -> y_pred: [0] -> REAL: 0\n",
      "Testeo: 7200 -> y_pred: [0] -> REAL: 0\n",
      "Testeo: 7300 -> y_pred: [1] -> REAL: 1\n",
      "Testeo: 7400 -> y_pred: [1] -> REAL: 1\n",
      "Testeo: 7500 -> y_pred: [1] -> REAL: 1\n",
      "Testeo: 7600 -> y_pred: [1] -> REAL: 1\n",
      "Testeo: 7700 -> y_pred: [1] -> REAL: 1\n",
      "Testeo: 7800 -> y_pred: [1] -> REAL: 1\n",
      "Testeo: 7900 -> y_pred: [1] -> REAL: 0\n",
      "Testeo: 8000 -> y_pred: [0] -> REAL: 0\n",
      "Testeo: 8100 -> y_pred: [1] -> REAL: 1\n",
      "Testeo: 8200 -> y_pred: [1] -> REAL: 1\n",
      "Testeo: 8300 -> y_pred: [0] -> REAL: 1\n",
      "Testeo: 8400 -> y_pred: [0] -> REAL: 0\n",
      "Testeo: 8500 -> y_pred: [0] -> REAL: 0\n",
      "Testeo: 8600 -> y_pred: [0] -> REAL: 1\n",
      "Testeo: 8700 -> y_pred: [0] -> REAL: 0\n",
      "Testeo: 8800 -> y_pred: [1] -> REAL: 1\n",
      "Testeo: 8900 -> y_pred: [1] -> REAL: 1\n",
      "Testeo: 9000 -> y_pred: [0] -> REAL: 0\n",
      "Testeo: 9100 -> y_pred: [1] -> REAL: 1\n",
      "Testeo: 9200 -> y_pred: [1] -> REAL: 1\n",
      "Testeo: 9300 -> y_pred: [1] -> REAL: 1\n",
      "Testeo: 9400 -> y_pred: [0] -> REAL: 0\n",
      "Testeo: 9500 -> y_pred: [0] -> REAL: 0\n",
      "Testeo: 9600 -> y_pred: [1] -> REAL: 1\n",
      "Testeo: 9700 -> y_pred: [0] -> REAL: 0\n",
      "Testeo: 9800 -> y_pred: [1] -> REAL: 1\n",
      "Testeo: 9900 -> y_pred: [0] -> REAL: 0\n"
     ]
    }
   ],
   "source": [
    "y_pred=[]\n",
    "print(len(X_test),\" Iterations will be done.\")\n",
    "for i in range(len(X_test)):\n",
    "    result2 = lstm_model.predict(X_test[i].reshape(1,X_test.shape[1]),batch_size=1,verbose = 2)[0]\n",
    "    pred=(result2>0.5)*1\n",
    "    y_pred.append(pred)\n",
    "    if i%100==0:\n",
    "        print(\"Testeo:\",i,\"-> y_pred:\",pred,\"-> REAL:\",y_test[i])"
   ]
  },
  {
   "cell_type": "markdown",
   "metadata": {},
   "source": [
    "## 8. Results"
   ]
  },
  {
   "cell_type": "code",
   "execution_count": 11,
   "metadata": {},
   "outputs": [
    {
     "name": "stdout",
     "output_type": "stream",
     "text": [
      "[[4183  808]\n",
      " [ 535 4474]]\n"
     ]
    }
   ],
   "source": [
    "from sklearn.metrics import confusion_matrix\n",
    "Result=confusion_matrix(y_test, y_pred)\n",
    "print(Result)"
   ]
  },
  {
   "cell_type": "code",
   "execution_count": 12,
   "metadata": {},
   "outputs": [
    {
     "name": "stdout",
     "output_type": "stream",
     "text": [
      "Negative precision:  0.8381085954718493\n",
      "Positive precision:  0.8931922539429028\n",
      "General precision:  0.8657\n"
     ]
    }
   ],
   "source": [
    "print(\"Negative precision: \",Result[0,0]/(Result[0,0]+Result[0,1]))\n",
    "print(\"Positive precision: \",Result[1,1]/(Result[1,0]+Result[1,1]))\n",
    "print(\"General precision: \",(Result[1,1]+Result[0,0])/(Result[0,0]+Result[0,1]+Result[1,0]+Result[1,1]))"
   ]
  }
 ],
 "metadata": {
  "kernelspec": {
   "display_name": "Python 3",
   "language": "python",
   "name": "python3"
  },
  "language_info": {
   "codemirror_mode": {
    "name": "ipython",
    "version": 3
   },
   "file_extension": ".py",
   "mimetype": "text/x-python",
   "name": "python",
   "nbconvert_exporter": "python",
   "pygments_lexer": "ipython3",
   "version": "3.6.5"
  }
 },
 "nbformat": 4,
 "nbformat_minor": 2
}
