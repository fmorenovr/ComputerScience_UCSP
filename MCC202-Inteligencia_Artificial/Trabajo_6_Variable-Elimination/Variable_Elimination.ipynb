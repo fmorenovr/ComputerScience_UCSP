{
 "cells": [
  {
   "cell_type": "markdown",
   "metadata": {},
   "source": [
    "# Variable Elimination in Student Bayes Model"
   ]
  },
  {
   "cell_type": "markdown",
   "metadata": {},
   "source": [
    "The Student Network, based on https://uol.de/en/lcs/probabilistic-programming/webchurch-and-openbugs/example-6a-bayesian-network-student-model-with-evidence/ work and publication  \n",
    "\n",
    "Also, we use pgmpy and the work of Ankur Ankan https://conference.scipy.org/proceedings/scipy2015/pdfs/ankur_ankan.pdf and https://scipy.in/2014/static/uploads/ankurankan/attachment/probabilistic_1.pdf"
   ]
  },
  {
   "cell_type": "markdown",
   "metadata": {},
   "source": [
    "![alt text](sb.png)"
   ]
  },
  {
   "cell_type": "markdown",
   "metadata": {},
   "source": [
    "### Importing libraries"
   ]
  },
  {
   "cell_type": "code",
   "execution_count": 1,
   "metadata": {},
   "outputs": [],
   "source": [
    "from pgmpy.models.BayesianModel import BayesianModel\n",
    "#from pgmpy.factors import TabularCPD\n",
    "from pgmpy.factors.discrete import TabularCPD\n",
    "from pgmpy.inference import VariableElimination"
   ]
  },
  {
   "cell_type": "markdown",
   "metadata": {},
   "source": [
    "### Defining models"
   ]
  },
  {
   "cell_type": "code",
   "execution_count": 2,
   "metadata": {},
   "outputs": [],
   "source": [
    "student_model = BayesianModel([('D', 'G'), ('I', 'G'), ('G', 'L'), ('I', 'S')])\n",
    "\n",
    "grade_cpd = TabularCPD(variable='G', variable_card=3, values=[[0.3, 0.05, 0.9, 0.5], [0.4, 0.25, 0.08, 0.3], [0.3, 0.7, 0.02, 0.2]], evidence=['I', 'D'], evidence_card=[2, 2])\n",
    "difficulty_cpd = TabularCPD(variable='D', variable_card=2, values=[[0.6, 0.4]])\n",
    "intel_cpd = TabularCPD(variable='I', variable_card=2, values=[[0.7, 0.3]])\n",
    "letter_cpd = TabularCPD(variable='L', variable_card=2, values=[[0.1, 0.4, 0.99], [0.9, 0.6, 0.01]], evidence=['G'], evidence_card=[3])\n",
    "sat_cpd = TabularCPD(variable='S', variable_card=2, values=[[0.95, 0.2], [0.05, 0.8]], evidence=['I'], evidence_card=[2])\n"
   ]
  },
  {
   "cell_type": "code",
   "execution_count": 3,
   "metadata": {},
   "outputs": [
    {
     "data": {
      "text/plain": [
       "[<TabularCPD representing P(G:3 | I:2, D:2) at 0x7fb8a51ca2b0>,\n",
       " <TabularCPD representing P(D:2) at 0x7fb8a51ca2e8>,\n",
       " <TabularCPD representing P(I:2) at 0x7fb8d445fb70>,\n",
       " <TabularCPD representing P(L:2 | G:3) at 0x7fb8a51ca240>,\n",
       " <TabularCPD representing P(S:2 | I:2) at 0x7fb8a51ca320>]"
      ]
     },
     "execution_count": 3,
     "metadata": {},
     "output_type": "execute_result"
    }
   ],
   "source": [
    "student_model.add_cpds(grade_cpd, difficulty_cpd, intel_cpd, letter_cpd, sat_cpd)\n",
    "student_model.get_cpds()"
   ]
  },
  {
   "cell_type": "code",
   "execution_count": 4,
   "metadata": {},
   "outputs": [
    {
     "data": {
      "text/plain": [
       "{'D': {'D', 'G', 'L'}}"
      ]
     },
     "execution_count": 4,
     "metadata": {},
     "output_type": "execute_result"
    }
   ],
   "source": [
    "student_model.active_trail_nodes('D')"
   ]
  },
  {
   "cell_type": "code",
   "execution_count": 5,
   "metadata": {},
   "outputs": [
    {
     "data": {
      "text/plain": [
       "(G _|_ S | I, D)"
      ]
     },
     "execution_count": 5,
     "metadata": {},
     "output_type": "execute_result"
    }
   ],
   "source": [
    "student_model.local_independencies('G')"
   ]
  },
  {
   "cell_type": "code",
   "execution_count": 6,
   "metadata": {},
   "outputs": [
    {
     "data": {
      "text/plain": [
       "(D _|_ S, I)\n",
       "(D _|_ I | S)\n",
       "(D _|_ S | I)\n",
       "(D _|_ L | G)\n",
       "(D _|_ L | S, G)\n",
       "(D _|_ S | I, L)\n",
       "(D _|_ S, L | I, G)\n",
       "(D _|_ L | S, I, G)\n",
       "(D _|_ S | I, L, G)\n",
       "(G _|_ S | I)\n",
       "(G _|_ S | I, L)\n",
       "(G _|_ S | I, D)\n",
       "(G _|_ S | I, L, D)\n",
       "(I _|_ D)\n",
       "(I _|_ D | S)\n",
       "(I _|_ L | G)\n",
       "(I _|_ L | S, G)\n",
       "(I _|_ L | G, D)\n",
       "(I _|_ L | S, G, D)\n",
       "(L _|_ S | I)\n",
       "(L _|_ S, I, D | G)\n",
       "(L _|_ I, D | S, G)\n",
       "(L _|_ S, D | I, G)\n",
       "(L _|_ S | I, D)\n",
       "(L _|_ S, I | G, D)\n",
       "(L _|_ D | S, I, G)\n",
       "(L _|_ I | S, G, D)\n",
       "(L _|_ S | I, G, D)\n",
       "(S _|_ D)\n",
       "(S _|_ L, G, D | I)\n",
       "(S _|_ L | G)\n",
       "(S _|_ G, D | I, L)\n",
       "(S _|_ L, D | I, G)\n",
       "(S _|_ L, G | I, D)\n",
       "(S _|_ L | G, D)\n",
       "(S _|_ D | I, L, G)\n",
       "(S _|_ G | I, L, D)\n",
       "(S _|_ L | I, G, D)"
      ]
     },
     "execution_count": 6,
     "metadata": {},
     "output_type": "execute_result"
    }
   ],
   "source": [
    "student_model.get_independencies()"
   ]
  },
  {
   "cell_type": "markdown",
   "metadata": {},
   "source": [
    "### Queries on Variable Elimination"
   ]
  },
  {
   "cell_type": "code",
   "execution_count": 7,
   "metadata": {},
   "outputs": [
    {
     "name": "stderr",
     "output_type": "stream",
     "text": [
      "/home/jenazads/anaconda3/lib/python3.7/site-packages/pgmpy/factors/discrete/DiscreteFactor.py:598: FutureWarning: Using a non-tuple sequence for multidimensional indexing is deprecated; use `arr[tuple(seq)]` instead of `arr[seq]`. In the future this will be interpreted as an array index, `arr[np.array(seq)]`, which will result either in an error or a different result.\n",
      "  phi1.values = phi1.values[slice_]\n",
      "/home/jenazads/anaconda3/lib/python3.7/site-packages/pgmpy/factors/discrete/DiscreteFactor.py:586: FutureWarning: Using a non-tuple sequence for multidimensional indexing is deprecated; use `arr[tuple(seq)]` instead of `arr[seq]`. In the future this will be interpreted as an array index, `arr[np.array(seq)]`, which will result either in an error or a different result.\n",
      "  phi.values = phi.values[slice_]\n"
     ]
    }
   ],
   "source": [
    "ve_model = VariableElimination(student_model)\n",
    "prob_SI = ve_model.query(variables=['S','I'])"
   ]
  },
  {
   "cell_type": "code",
   "execution_count": 8,
   "metadata": {},
   "outputs": [
    {
     "name": "stdout",
     "output_type": "stream",
     "text": [
      "+-----+----------+\n",
      "| I   |   phi(I) |\n",
      "+=====+==========+\n",
      "| I_0 |   0.7000 |\n",
      "+-----+----------+\n",
      "| I_1 |   0.3000 |\n",
      "+-----+----------+\n"
     ]
    }
   ],
   "source": [
    "print(prob_SI['I'])"
   ]
  },
  {
   "cell_type": "code",
   "execution_count": 9,
   "metadata": {},
   "outputs": [
    {
     "name": "stderr",
     "output_type": "stream",
     "text": [
      "/home/jenazads/anaconda3/lib/python3.7/site-packages/pgmpy/factors/discrete/DiscreteFactor.py:598: FutureWarning: Using a non-tuple sequence for multidimensional indexing is deprecated; use `arr[tuple(seq)]` instead of `arr[seq]`. In the future this will be interpreted as an array index, `arr[np.array(seq)]`, which will result either in an error or a different result.\n",
      "  phi1.values = phi1.values[slice_]\n"
     ]
    }
   ],
   "source": [
    "#prob_G = ve_model.query(variables=['G'], evidence=[('I', 1), ('D', 0)])\n",
    "prob_G = ve_model.query(variables=['G'])"
   ]
  },
  {
   "cell_type": "code",
   "execution_count": 10,
   "metadata": {},
   "outputs": [
    {
     "name": "stdout",
     "output_type": "stream",
     "text": [
      "+-----+----------+\n",
      "| G   |   phi(G) |\n",
      "+=====+==========+\n",
      "| G_0 |   0.3620 |\n",
      "+-----+----------+\n",
      "| G_1 |   0.2884 |\n",
      "+-----+----------+\n",
      "| G_2 |   0.3496 |\n",
      "+-----+----------+\n"
     ]
    }
   ],
   "source": [
    "print(prob_G['G'])"
   ]
  },
  {
   "cell_type": "code",
   "execution_count": 11,
   "metadata": {},
   "outputs": [
    {
     "name": "stderr",
     "output_type": "stream",
     "text": [
      "/home/jenazads/anaconda3/lib/python3.7/site-packages/pgmpy/factors/discrete/DiscreteFactor.py:598: FutureWarning: Using a non-tuple sequence for multidimensional indexing is deprecated; use `arr[tuple(seq)]` instead of `arr[seq]`. In the future this will be interpreted as an array index, `arr[np.array(seq)]`, which will result either in an error or a different result.\n",
      "  phi1.values = phi1.values[slice_]\n"
     ]
    },
    {
     "data": {
      "text/plain": [
       "{'G': 0}"
      ]
     },
     "execution_count": 11,
     "metadata": {},
     "output_type": "execute_result"
    }
   ],
   "source": [
    "ve_model.map_query(variables=['G'])"
   ]
  },
  {
   "cell_type": "code",
   "execution_count": 12,
   "metadata": {},
   "outputs": [],
   "source": [
    "#ve_model.map_query(variables=['G'], evidence=[('I', 1, ('D', 0)])"
   ]
  }
 ],
 "metadata": {
  "kernelspec": {
   "display_name": "Python 3",
   "language": "python",
   "name": "python3"
  },
  "language_info": {
   "codemirror_mode": {
    "name": "ipython",
    "version": 3
   },
   "file_extension": ".py",
   "mimetype": "text/x-python",
   "name": "python",
   "nbconvert_exporter": "python",
   "pygments_lexer": "ipython3",
   "version": "3.7.2"
  }
 },
 "nbformat": 4,
 "nbformat_minor": 2
}
