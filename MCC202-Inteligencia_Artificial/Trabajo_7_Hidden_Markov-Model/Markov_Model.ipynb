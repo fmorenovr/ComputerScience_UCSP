{
 "cells": [
  {
   "cell_type": "markdown",
   "metadata": {},
   "source": [
    "# Hidden Markov Model for Named Entity Recognition"
   ]
  },
  {
   "cell_type": "markdown",
   "metadata": {},
   "source": [
    "Obtained data from https://www.clips.uantwerpen.be/conll2002/ner/"
   ]
  },
  {
   "cell_type": "markdown",
   "metadata": {},
   "source": [
    "## Preprocessing data"
   ]
  },
  {
   "cell_type": "markdown",
   "metadata": {},
   "source": [
    "Read data downloaded and parsing data"
   ]
  },
  {
   "cell_type": "code",
   "execution_count": 1,
   "metadata": {},
   "outputs": [],
   "source": [
    "def parsingData(text):\n",
    "    words = []\n",
    "    labels = []\n",
    "    \n",
    "    for line in text:\n",
    "        if line != \"\":\n",
    "            word, label = line.split(\" \")\n",
    "            words.append(word)\n",
    "            labels.append(label)\n",
    "    \n",
    "    return words, labels"
   ]
  },
  {
   "cell_type": "code",
   "execution_count": 2,
   "metadata": {},
   "outputs": [],
   "source": [
    "data = open(\"data/esp.train\", \"r\", encoding='utf8',errors=\"ignore\")"
   ]
  },
  {
   "cell_type": "code",
   "execution_count": 3,
   "metadata": {},
   "outputs": [],
   "source": [
    "text  = data.read().split(\"\\n\")"
   ]
  },
  {
   "cell_type": "code",
   "execution_count": 4,
   "metadata": {},
   "outputs": [],
   "source": [
    "x_train, y_train = parsingData(text)"
   ]
  },
  {
   "cell_type": "markdown",
   "metadata": {},
   "source": [
    "## Trainning"
   ]
  },
  {
   "cell_type": "markdown",
   "metadata": {},
   "source": [
    "Create probability distribution"
   ]
  },
  {
   "cell_type": "code",
   "execution_count": 5,
   "metadata": {},
   "outputs": [],
   "source": [
    "def distribution(x_train, y_train):\n",
    "    res = {}\n",
    "    \n",
    "    for i in range(len(y_train)):\n",
    "        if x_train[i] not in res:\n",
    "            res[x_train[i]] = {}\n",
    "        \n",
    "        if y_train[i] not in res[x_train[i]]:\n",
    "                res[x_train[i]][y_train[i]]  = 1\n",
    "                \n",
    "        else:\n",
    "            res[x_train[i]][y_train[i]] += 1 \n",
    "    \n",
    "    \n",
    "    for key, val in res.items():\n",
    "        sumLabels = sum(val.values())\n",
    "        for k, v in val.items():\n",
    "            res[key][k] = v / sumLabels\n",
    "            \n",
    "    return res"
   ]
  },
  {
   "cell_type": "code",
   "execution_count": 6,
   "metadata": {},
   "outputs": [],
   "source": [
    "prob_dist = distribution(x_train, y_train)"
   ]
  },
  {
   "cell_type": "markdown",
   "metadata": {},
   "source": [
    "Obtención de la etiqueta que hace máxima a la distribución de probabilidad dada la palabra"
   ]
  },
  {
   "cell_type": "code",
   "execution_count": 7,
   "metadata": {},
   "outputs": [],
   "source": [
    "def predict(word, prob_dist):\n",
    "    if word in prob_dist:\n",
    "        maxVal = max(prob_dist[word].values())\n",
    "        for k, v in prob_dist[word].items():\n",
    "            if v == maxVal:\n",
    "                return k\n",
    "    else:\n",
    "        return '0'"
   ]
  },
  {
   "cell_type": "code",
   "execution_count": 8,
   "metadata": {},
   "outputs": [
    {
     "data": {
      "text/plain": [
       "'B-PER'"
      ]
     },
     "execution_count": 8,
     "metadata": {},
     "output_type": "execute_result"
    }
   ],
   "source": [
    "predict('CARLOS', prob_dist)"
   ]
  },
  {
   "cell_type": "markdown",
   "metadata": {},
   "source": [
    "## Testing"
   ]
  },
  {
   "cell_type": "markdown",
   "metadata": {},
   "source": [
    "calculate correct predict labels"
   ]
  },
  {
   "cell_type": "code",
   "execution_count": 9,
   "metadata": {},
   "outputs": [],
   "source": [
    "def testing(input_test, label_test, prob_dist):\n",
    "    n   = len(input_test)\n",
    "    acc = 0.\n",
    "    \n",
    "    for i in range(n):\n",
    "        if predict(input_test[i], prob_dist) == label_test[i]:\n",
    "            acc += 1\n",
    "            \n",
    "    return acc/n"
   ]
  },
  {
   "cell_type": "markdown",
   "metadata": {},
   "source": [
    "### Dataset A"
   ]
  },
  {
   "cell_type": "markdown",
   "metadata": {},
   "source": [
    "Using dataset esp.testa"
   ]
  },
  {
   "cell_type": "code",
   "execution_count": 10,
   "metadata": {},
   "outputs": [],
   "source": [
    "data = open(\"data/esp.testa\", \"r\", encoding='utf8',errors=\"ignore\")\n",
    "text_a  = data.read().split(\"\\n\")\n",
    "data.close()"
   ]
  },
  {
   "cell_type": "code",
   "execution_count": 11,
   "metadata": {},
   "outputs": [],
   "source": [
    "x_test, y_test = parsingData(text_a)"
   ]
  },
  {
   "cell_type": "code",
   "execution_count": 12,
   "metadata": {},
   "outputs": [
    {
     "name": "stdout",
     "output_type": "stream",
     "text": [
      "Accuracy for 'esp.testa' : 0.870\n"
     ]
    }
   ],
   "source": [
    "acc_a = testing(x_test, y_test, prob_dist)\n",
    "print(\"Accuracy for 'esp.testa' : {:4.3f}\".format(acc_a))"
   ]
  },
  {
   "cell_type": "markdown",
   "metadata": {},
   "source": [
    "### Dataset B"
   ]
  },
  {
   "cell_type": "markdown",
   "metadata": {},
   "source": [
    "Using dataset esp.testb"
   ]
  },
  {
   "cell_type": "code",
   "execution_count": 13,
   "metadata": {},
   "outputs": [],
   "source": [
    "data = open(\"data/esp.testb\", \"r\", encoding='utf8',errors=\"ignore\")\n",
    "text_b  = data.read().split(\"\\n\")\n",
    "data.close()"
   ]
  },
  {
   "cell_type": "code",
   "execution_count": 14,
   "metadata": {},
   "outputs": [],
   "source": [
    "x_test, y_test = parsingData(text_b)"
   ]
  },
  {
   "cell_type": "code",
   "execution_count": 15,
   "metadata": {},
   "outputs": [
    {
     "name": "stdout",
     "output_type": "stream",
     "text": [
      "Accuracy for 'esp.testa' : 0.898\n"
     ]
    }
   ],
   "source": [
    "acc_b = testing(x_test, y_test, prob_dist)\n",
    "print(\"Accuracy for 'esp.testa' : {:4.3f}\".format(acc_b))"
   ]
  }
 ],
 "metadata": {
  "kernelspec": {
   "display_name": "Python 3",
   "language": "python",
   "name": "python3"
  },
  "language_info": {
   "codemirror_mode": {
    "name": "ipython",
    "version": 3
   },
   "file_extension": ".py",
   "mimetype": "text/x-python",
   "name": "python",
   "nbconvert_exporter": "python",
   "pygments_lexer": "ipython3",
   "version": "3.7.2"
  }
 },
 "nbformat": 4,
 "nbformat_minor": 2
}
