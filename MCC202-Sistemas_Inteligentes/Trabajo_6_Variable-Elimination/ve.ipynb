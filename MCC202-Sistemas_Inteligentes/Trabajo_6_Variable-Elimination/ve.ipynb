{
 "cells": [
  {
   "cell_type": "markdown",
   "metadata": {},
   "source": [
    "# Implement variable elimination in the following model"
   ]
  },
  {
   "cell_type": "markdown",
   "metadata": {},
   "source": [
    "The Student Network"
   ]
  },
  {
   "cell_type": "markdown",
   "metadata": {},
   "source": [
    "![alt text](sb.png)"
   ]
  },
  {
   "cell_type": "code",
   "execution_count": 2,
   "metadata": {},
   "outputs": [],
   "source": [
    "# Define the product of two tables:"
   ]
  },
  {
   "cell_type": "code",
   "execution_count": 3,
   "metadata": {},
   "outputs": [],
   "source": [
    "dificulty = {0: 0.6, 1: 0.4}\n",
    "intelligence = {0: 0.7, 1: 0.3}\n",
    "sat = {0: {0: 0.95, 1:0.2}, 1: {0: 0.05, 1: 0.8}}\n",
    "grade = {1: {(0, 0): 0.3, (0, 1): 0.05, (1, 0): 0.9, (1,1):0.5}, 2: {(0, 0): 0.4, (0, 1): 0.25, (1, 0): 0.08, (1,1):0.3}, 3: {(0, 0): 0.3, (0, 1): 0.7, (1, 0): 0.02, (1,1):0.2}}"
   ]
  },
  {
   "cell_type": "code",
   "execution_count": 6,
   "metadata": {},
   "outputs": [],
   "source": [
    "#def multiply(A, idx_commA, B, idx_commB):\n",
    "#    # (i, d, g, l)\n",
    "#    for t in A:\n",
    "#        n_i = A[t]*B[]"
   ]
  },
  {
   "cell_type": "code",
   "execution_count": 7,
   "metadata": {},
   "outputs": [],
   "source": [
    "grade = {(0,0,1):0.3, (0,0,2):0.4, (0,0,3):0.3, \n",
    "        (0,1,1):0.05, (0,1,2):0.25, (0,1,3):0.7,\n",
    "        (1,0,1): 0.9, (1,0,2):0.08, (1,0,3):0.02,\n",
    "        (1,1,1):0.5, (1,1,2):0.3, (1,1,3):0.2}"
   ]
  },
  {
   "cell_type": "code",
   "execution_count": 8,
   "metadata": {},
   "outputs": [],
   "source": [
    "intelligence = {(1, 0): 0.1, (1, 1):0.9, (2,0):0.4, (2,1):0.6,\n",
    "                (3,0):0.99, (3,1):0.01}"
   ]
  },
  {
   "cell_type": "code",
   "execution_count": 9,
   "metadata": {},
   "outputs": [
    {
     "data": {
      "text/plain": [
       "{(1, 0): 0.1,\n",
       " (1, 1): 0.9,\n",
       " (2, 0): 0.4,\n",
       " (2, 1): 0.6,\n",
       " (3, 0): 0.99,\n",
       " (3, 1): 0.01}"
      ]
     },
     "execution_count": 9,
     "metadata": {},
     "output_type": "execute_result"
    }
   ],
   "source": [
    "intelligence"
   ]
  },
  {
   "cell_type": "code",
   "execution_count": 10,
   "metadata": {},
   "outputs": [
    {
     "data": {
      "text/plain": [
       "{(0, 0, 1): 0.3,\n",
       " (0, 0, 2): 0.4,\n",
       " (0, 0, 3): 0.3,\n",
       " (0, 1, 1): 0.05,\n",
       " (0, 1, 2): 0.25,\n",
       " (0, 1, 3): 0.7,\n",
       " (1, 0, 1): 0.9,\n",
       " (1, 0, 2): 0.08,\n",
       " (1, 0, 3): 0.02,\n",
       " (1, 1, 1): 0.5,\n",
       " (1, 1, 2): 0.3,\n",
       " (1, 1, 3): 0.2}"
      ]
     },
     "execution_count": 10,
     "metadata": {},
     "output_type": "execute_result"
    }
   ],
   "source": [
    "grade"
   ]
  },
  {
   "cell_type": "code",
   "execution_count": null,
   "metadata": {},
   "outputs": [],
   "source": []
  },
  {
   "cell_type": "code",
   "execution_count": 276,
   "metadata": {},
   "outputs": [],
   "source": [
    "import numpy as np"
   ]
  },
  {
   "cell_type": "code",
   "execution_count": 279,
   "metadata": {},
   "outputs": [],
   "source": [
    "diffic = np.array([0.6, 0.4])\n",
    "intell = np.array([0.7, 0.3])\n",
    "sat = np.array([[0.95, 0.05],[0.2, 0.8]])\n",
    "grade = np.array([[0.3, 0.4, 0.3],[0.05, 0.25, 0.7],[0.9, 0.08, 0.02], [0.5, 0.3, 0.2]])\n",
    "letter = np.array([[0.1, 0.9],[0.4, 0.6], [0.99, 0.01]])"
   ]
  },
  {
   "cell_type": "code",
   "execution_count": 282,
   "metadata": {},
   "outputs": [
    {
     "data": {
      "text/plain": [
       "array([0.1, 0.9])"
      ]
     },
     "execution_count": 282,
     "metadata": {},
     "output_type": "execute_result"
    }
   ],
   "source": [
    "letter[0]"
   ]
  },
  {
   "cell_type": "code",
   "execution_count": 265,
   "metadata": {},
   "outputs": [],
   "source": [
    "dificulty = {0: 0.6, 1: 0.4}\n",
    "intelligence = {0: 0.7, 1: 0.3}\n",
    "sat = {0: {0: 0.95, 1:0.2}, 1: {0: 0.05, 1: 0.8}}\n",
    "grade = {1: {0}}"
   ]
  },
  {
   "cell_type": "code",
   "execution_count": 274,
   "metadata": {},
   "outputs": [],
   "source": [
    "tableSAT = {0:{}, 1:{}}\n",
    "for fromTab in intelligence:\n",
    "    for toTab in sat:\n",
    "        tableSAT[toTab][fromTab] = intelligence[fromTab]*sat[toTab][fromTab]"
   ]
  },
  {
   "cell_type": "code",
   "execution_count": 275,
   "metadata": {},
   "outputs": [
    {
     "data": {
      "text/plain": [
       "{0: {0: 0.6649999999999999, 1: 0.06}, 1: {0: 0.034999999999999996, 1: 0.24}}"
      ]
     },
     "execution_count": 275,
     "metadata": {},
     "output_type": "execute_result"
    }
   ],
   "source": [
    "tableSAT"
   ]
  },
  {
   "cell_type": "code",
   "execution_count": null,
   "metadata": {},
   "outputs": [],
   "source": [
    "tableG = {0:{}, 1:{}}\n",
    "for fromTab in intelligence:\n",
    "    for toTab in sat:\n",
    "        tableG[toTab][fromTab] = intelligence[fromTab]*sat[toTab][fromTab]"
   ]
  },
  {
   "cell_type": "code",
   "execution_count": 1,
   "metadata": {},
   "outputs": [],
   "source": [
    "myd = {}\n",
    "myd[0,1] = \"hola\""
   ]
  },
  {
   "cell_type": "code",
   "execution_count": 2,
   "metadata": {},
   "outputs": [
    {
     "data": {
      "text/plain": [
       "'hola'"
      ]
     },
     "execution_count": 2,
     "metadata": {},
     "output_type": "execute_result"
    }
   ],
   "source": [
    "myd[0,1]"
   ]
  },
  {
   "cell_type": "code",
   "execution_count": null,
   "metadata": {},
   "outputs": [],
   "source": [
    "    "
   ]
  },
  {
   "cell_type": "code",
   "execution_count": 12,
   "metadata": {},
   "outputs": [],
   "source": [
    "class Node:\n",
    "    def __init__(self, states, patterns):\n",
    "        self.states = states\n",
    "        self.patterns = patterns\n",
    "        self.table = {}\n",
    "        self.currentState = 0\n",
    "    def pushInTable(self, data, indexes):\n",
    "        if len(self.patterns) > 0:\n",
    "            n_inputs = len(self.patterns)\n",
    "            if n_inputs == 1:\n",
    "                self.table[indexes[0]] = data\n",
    "            elif n_inputs == 2:\n",
    "                #print(indexes)\n",
    "                self.table[(indexes[0],indexes[1])] = data\n",
    "        else:\n",
    "            self.table = data"
   ]
  },
  {
   "cell_type": "code",
   "execution_count": 209,
   "metadata": {},
   "outputs": [],
   "source": [
    "class Graph:\n",
    "    def __init__(self, nodes = {}):\n",
    "        self.nodes = nodes\n",
    "        self.evidences = {}\n",
    "        self.querys = set()\n",
    "        self.hidden = set()\n",
    "        self.conjunt = set()\n",
    "    def addNode(self, name, states, patterns = []):\n",
    "        self.nodes[name] = Node(states, patterns)\n",
    "        self.conjunt.add(name)\n",
    "        #self.nodes.append(Node(states, patterns))\n",
    "    def addData(self, name, data, ind = []):\n",
    "        self.nodes[name].pushInTable(data, indexes = ind)\n",
    "    \n",
    "    def setEvidence(self, name, state_idx):\n",
    "        self.evidences[name] = state_idx\n",
    "    def setQueries(self, name):\n",
    "        self.querys.add(name)\n",
    "    \n",
    "    def setHidden(self):\n",
    "        if self.querys.isdisjoint(set(self.evidences)):\n",
    "            self.hidden = self.conjunt - set(self.evidences) - self.querys\n",
    "        else:\n",
    "            print(\"Error, Evidence set & Query Set are not disjoint, please Check!\\n\")\n",
    "        \n",
    "    def StractStates(self, name, querystate):\n",
    "        states = []\n",
    "        if name in self.evidences:\n",
    "            states.append(self.evidences[name])\n",
    "        elif name in self.hidden:\n",
    "            states = self.nodes[name].states\n",
    "        elif name in self.querys:\n",
    "            states.append(querystate)\n",
    "        \n",
    "        return states\n",
    "    def Multiplication(self, father, child):\n",
    "        import copy\n",
    "        tab = copy.deepcopy(child.table)\n",
    "        if len(child.patterns) == 1:\n",
    "            for idx in father.states:\n",
    "                for i in range(len(child.table[idx])):\n",
    "                    tab[idx][i] = child.table[idx][i]*father.table[idx]\n",
    "        \n",
    "        elif len(child.patterns) == 2:\n",
    "            posIdx = 0\n",
    "            # Get in what position is the current parent\n",
    "            for ii in range(len(child.patterns)):\n",
    "                if child.patterns[ii] == father:\n",
    "                    posIdx = ii\n",
    "            ## ****\n",
    "            if posIdx == 0:\n",
    "                for sf1 in father.states:\n",
    "                    for sf2 in child.patterns[1].states:\n",
    "                        for i in child.states:\n",
    "                            tab[(sf1, sf2)][i] = father.table[sf1]*child.table[(sf1, sf2)][i]\n",
    "            else:\n",
    "                for sf1 in child.patterns[0].states:\n",
    "                    for sf2 in father.states:\n",
    "                        for i in child.states:\n",
    "                            tab[(sf1, sf2)][i] = father.table[sf2]*child.table[(sf1, sf2)][i]\n",
    "        \n",
    "        return tab\n",
    "    \n",
    "    def transformToTable(self, table):\n",
    "        tab = {}\n",
    "        for t in table:\n",
    "            for s in range(len(table[t])):\n",
    "                L = list(t)\n",
    "                L.insert(0, s)\n",
    "                tab[tuple(L)] = table[t][s]\n",
    "        return tab\n",
    "    \n",
    "    def Marginalize(self, table, index):\n",
    "        tab = {}\n",
    "        for t in table:\n",
    "            tn = list(t)\n",
    "            del(tn[index])\n",
    "            if len(tn) == 1:\n",
    "                tn = tn[0]\n",
    "            else:\n",
    "                tn = tuple(tn)\n",
    "            try: \n",
    "                tab[tn] = tab[tn] + table[t]\n",
    "            except:\n",
    "                tab[tn] = table[t]\n",
    "        \n",
    "        return tab                \n",
    "                \n",
    "\n",
    "    def RunVariableElimination(self, stateQuery = 0):\n",
    "        ## For the moment it formula just will work with 1 node as Query.\n",
    "        # Hidden are factors:\n",
    "        \n",
    "\n",
    "        \n",
    "    \n"
   ]
  },
  {
   "cell_type": "markdown",
   "metadata": {},
   "source": [
    "### Create a Graphical Model"
   ]
  },
  {
   "cell_type": "code",
   "execution_count": 210,
   "metadata": {},
   "outputs": [],
   "source": [
    "graph = Graph()"
   ]
  },
  {
   "cell_type": "code",
   "execution_count": 211,
   "metadata": {},
   "outputs": [],
   "source": [
    "# Define the node Difficult\n",
    "graph.addNode('Difficult', states = [0, 1])"
   ]
  },
  {
   "cell_type": "code",
   "execution_count": 212,
   "metadata": {},
   "outputs": [],
   "source": [
    "graph.addData('Difficult', data = [0.6, 0.4])"
   ]
  },
  {
   "cell_type": "code",
   "execution_count": 213,
   "metadata": {},
   "outputs": [],
   "source": [
    "# Define the node Intelligence\n",
    "graph.addNode('Intelligence', states = [0, 1])"
   ]
  },
  {
   "cell_type": "code",
   "execution_count": 214,
   "metadata": {},
   "outputs": [],
   "source": [
    "graph.addData('Intelligence', data = [0.7, 0.3])"
   ]
  },
  {
   "cell_type": "code",
   "execution_count": 215,
   "metadata": {},
   "outputs": [],
   "source": [
    "# Define the node SAT\n",
    "graph.addNode('SAT', states = [0, 1], patterns=[graph.nodes['Intelligence']])"
   ]
  },
  {
   "cell_type": "code",
   "execution_count": 216,
   "metadata": {},
   "outputs": [],
   "source": [
    "graph.addData('SAT', ind=[0], data=[0.95, 0.05])\n",
    "graph.addData('SAT', ind=[1], data=[0.2, 0.8])"
   ]
  },
  {
   "cell_type": "code",
   "execution_count": 217,
   "metadata": {},
   "outputs": [],
   "source": [
    "# Define the node Grades:\n",
    "graph.addNode('Grade', states = [0, 1, 2], patterns=[graph.nodes['Difficult'], graph.nodes['Intelligence']])"
   ]
  },
  {
   "cell_type": "code",
   "execution_count": 218,
   "metadata": {},
   "outputs": [],
   "source": [
    "graph.addData('Grade', data = [0.3, 0.4, 0.3],ind = [0, 0])\n",
    "graph.addData('Grade', data = [0.05, 0.25, 0.7],ind = [0, 1])\n",
    "graph.addData('Grade', data = [0.9, 0.08, 0.02],ind = [1, 0])\n",
    "graph.addData('Grade', data = [0.5, 0.3, 0.2],ind = [1, 1])"
   ]
  },
  {
   "cell_type": "code",
   "execution_count": 219,
   "metadata": {},
   "outputs": [
    {
     "data": {
      "text/plain": [
       "{(0, 0): [0.3, 0.4, 0.3],\n",
       " (0, 1): [0.05, 0.25, 0.7],\n",
       " (1, 0): [0.9, 0.08, 0.02],\n",
       " (1, 1): [0.5, 0.3, 0.2]}"
      ]
     },
     "execution_count": 219,
     "metadata": {},
     "output_type": "execute_result"
    }
   ],
   "source": [
    "graph.nodes['Grade'].table"
   ]
  },
  {
   "cell_type": "code",
   "execution_count": 220,
   "metadata": {},
   "outputs": [
    {
     "data": {
      "text/plain": [
       "{0: [0.95, 0.05], 1: [0.2, 0.8]}"
      ]
     },
     "execution_count": 220,
     "metadata": {},
     "output_type": "execute_result"
    }
   ],
   "source": [
    "graph.nodes['SAT'].table"
   ]
  },
  {
   "cell_type": "code",
   "execution_count": null,
   "metadata": {},
   "outputs": [],
   "source": []
  },
  {
   "cell_type": "code",
   "execution_count": 221,
   "metadata": {},
   "outputs": [],
   "source": [
    "# Define the node Letter\n",
    "graph.addNode('Letter', states = [0, 1], patterns = [graph.nodes['Grade']])"
   ]
  },
  {
   "cell_type": "code",
   "execution_count": 222,
   "metadata": {},
   "outputs": [],
   "source": [
    "graph.addData('Letter', data = [0.1, 0.9], ind = [0])\n",
    "graph.addData('Letter', data = [0.4, 0.6], ind = [1])\n",
    "graph.addData('Letter', data = [0.99, 0.01], ind = [2])"
   ]
  },
  {
   "cell_type": "code",
   "execution_count": 223,
   "metadata": {},
   "outputs": [
    {
     "data": {
      "text/plain": [
       "{0: [0.1, 0.9], 1: [0.4, 0.6], 2: [0.99, 0.01]}"
      ]
     },
     "execution_count": 223,
     "metadata": {},
     "output_type": "execute_result"
    }
   ],
   "source": [
    "graph.nodes['Letter'].table"
   ]
  },
  {
   "cell_type": "code",
   "execution_count": 224,
   "metadata": {},
   "outputs": [
    {
     "data": {
      "text/plain": [
       "{(0, 0): [0.3, 0.4, 0.3],\n",
       " (0, 1): [0.05, 0.25, 0.7],\n",
       " (1, 0): [0.9, 0.08, 0.02],\n",
       " (1, 1): [0.5, 0.3, 0.2]}"
      ]
     },
     "execution_count": 224,
     "metadata": {},
     "output_type": "execute_result"
    }
   ],
   "source": [
    "graph.nodes['Grade'].table"
   ]
  },
  {
   "cell_type": "code",
   "execution_count": 225,
   "metadata": {},
   "outputs": [
    {
     "data": {
      "text/plain": [
       "{0: [0.6649999999999999, 0.034999999999999996], 1: [0.06, 0.24]}"
      ]
     },
     "execution_count": 225,
     "metadata": {},
     "output_type": "execute_result"
    }
   ],
   "source": [
    "graph.Multiplication(graph.nodes['Intelligence'], graph.nodes['SAT'])"
   ]
  },
  {
   "cell_type": "code",
   "execution_count": 226,
   "metadata": {},
   "outputs": [],
   "source": [
    "tt = graph.Multiplication(graph.nodes['Intelligence'], graph.nodes['Grade'])"
   ]
  },
  {
   "cell_type": "code",
   "execution_count": 227,
   "metadata": {},
   "outputs": [
    {
     "data": {
      "text/plain": [
       "{(0, 0): [0.21, 0.27999999999999997, 0.21],\n",
       " (0, 1): [0.015, 0.075, 0.21],\n",
       " (1, 0): [0.63, 0.055999999999999994, 0.013999999999999999],\n",
       " (1, 1): [0.15, 0.09, 0.06]}"
      ]
     },
     "execution_count": 227,
     "metadata": {},
     "output_type": "execute_result"
    }
   ],
   "source": [
    "tt"
   ]
  },
  {
   "cell_type": "code",
   "execution_count": null,
   "metadata": {},
   "outputs": [],
   "source": []
  },
  {
   "cell_type": "code",
   "execution_count": 228,
   "metadata": {},
   "outputs": [
    {
     "data": {
      "text/plain": [
       "{(0, 0, 0): 0.21,\n",
       " (0, 0, 1): 0.015,\n",
       " (0, 1, 0): 0.63,\n",
       " (0, 1, 1): 0.15,\n",
       " (1, 0, 0): 0.27999999999999997,\n",
       " (1, 0, 1): 0.075,\n",
       " (1, 1, 0): 0.055999999999999994,\n",
       " (1, 1, 1): 0.09,\n",
       " (2, 0, 0): 0.21,\n",
       " (2, 0, 1): 0.21,\n",
       " (2, 1, 0): 0.013999999999999999,\n",
       " (2, 1, 1): 0.06}"
      ]
     },
     "execution_count": 228,
     "metadata": {},
     "output_type": "execute_result"
    }
   ],
   "source": [
    "graph.transformToTable(tt)"
   ]
  },
  {
   "cell_type": "code",
   "execution_count": 229,
   "metadata": {},
   "outputs": [
    {
     "data": {
      "text/plain": [
       "{0: [0.1, 0.9], 1: [0.4, 0.6], 2: [0.99, 0.01]}"
      ]
     },
     "execution_count": 229,
     "metadata": {},
     "output_type": "execute_result"
    }
   ],
   "source": [
    "graph.nodes['Letter'].table"
   ]
  },
  {
   "cell_type": "code",
   "execution_count": 230,
   "metadata": {},
   "outputs": [],
   "source": [
    "graph.setEvidence('SAT', 1)"
   ]
  },
  {
   "cell_type": "code",
   "execution_count": 231,
   "metadata": {},
   "outputs": [],
   "source": [
    "graph.setQueries('Intelligence')"
   ]
  },
  {
   "cell_type": "code",
   "execution_count": 232,
   "metadata": {},
   "outputs": [],
   "source": [
    "graph.setHidden()"
   ]
  },
  {
   "cell_type": "code",
   "execution_count": 259,
   "metadata": {},
   "outputs": [],
   "source": [
    "graph.evidences={'Letter':1, 'SAT':1}"
   ]
  },
  {
   "cell_type": "code",
   "execution_count": 260,
   "metadata": {},
   "outputs": [],
   "source": [
    "graph.querys={'Intelligence'}"
   ]
  },
  {
   "cell_type": "code",
   "execution_count": 261,
   "metadata": {},
   "outputs": [],
   "source": [
    "graph.setHidden()"
   ]
  },
  {
   "cell_type": "code",
   "execution_count": 262,
   "metadata": {},
   "outputs": [
    {
     "data": {
      "text/plain": [
       "{'Difficult', 'Grade'}"
      ]
     },
     "execution_count": 262,
     "metadata": {},
     "output_type": "execute_result"
    }
   ],
   "source": [
    "graph.hidden"
   ]
  },
  {
   "cell_type": "code",
   "execution_count": 263,
   "metadata": {},
   "outputs": [
    {
     "name": "stdout",
     "output_type": "stream",
     "text": [
      "[0, 1]\n"
     ]
    },
    {
     "data": {
      "text/plain": [
       "0.00029400000000000004"
      ]
     },
     "execution_count": 263,
     "metadata": {},
     "output_type": "execute_result"
    }
   ],
   "source": [
    "graph.RunVariableElimination(0)"
   ]
  },
  {
   "cell_type": "markdown",
   "metadata": {},
   "source": [
    "# Example\n",
    "\n",
    "Get the $P(SAT | Intelligence = 1)$"
   ]
  },
  {
   "cell_type": "code",
   "execution_count": 243,
   "metadata": {},
   "outputs": [
    {
     "data": {
      "text/plain": [
       "{0: [0.6649999999999999, 0.034999999999999996], 1: [0.06, 0.24]}"
      ]
     },
     "execution_count": 243,
     "metadata": {},
     "output_type": "execute_result"
    }
   ],
   "source": [
    "graph.Multiplication(graph.nodes['Intelligence'], graph.nodes['SAT'])"
   ]
  },
  {
   "cell_type": "code",
   "execution_count": 244,
   "metadata": {},
   "outputs": [],
   "source": [
    "# the probability that Get the sat given the intelligence"
   ]
  },
  {
   "cell_type": "code",
   "execution_count": 245,
   "metadata": {},
   "outputs": [
    {
     "data": {
      "text/plain": [
       "0.8"
      ]
     },
     "execution_count": 245,
     "metadata": {},
     "output_type": "execute_result"
    }
   ],
   "source": [
    "0.24/(0.06 + 0.24)"
   ]
  },
  {
   "cell_type": "code",
   "execution_count": null,
   "metadata": {},
   "outputs": [],
   "source": []
  }
 ],
 "metadata": {
  "kernelspec": {
   "display_name": "Python 3",
   "language": "python",
   "name": "python3"
  },
  "language_info": {
   "codemirror_mode": {
    "name": "ipython",
    "version": 3
   },
   "file_extension": ".py",
   "mimetype": "text/x-python",
   "name": "python",
   "nbconvert_exporter": "python",
   "pygments_lexer": "ipython3",
   "version": "3.7.2"
  }
 },
 "nbformat": 4,
 "nbformat_minor": 2
}
